{
 "cells": [
  {
   "cell_type": "markdown",
   "id": "42308e5e",
   "metadata": {},
   "source": [
    "# Step 1: Import necessary Librabries"
   ]
  },
  {
   "cell_type": "code",
   "execution_count": 1,
   "id": "a1ace887",
   "metadata": {},
   "outputs": [],
   "source": [
    "import pandas as pd\n",
    "import numpy as np\n",
    "from sentence_transformers import SentenceTransformer, util"
   ]
  },
  {
   "cell_type": "markdown",
   "id": "bb5d2590",
   "metadata": {},
   "source": [
    "# Step 2: Load Dataset (movies dataset)"
   ]
  },
  {
   "cell_type": "code",
   "execution_count": 4,
   "id": "bda8d876",
   "metadata": {},
   "outputs": [
    {
     "name": "stdout",
     "output_type": "stream",
     "text": [
      "Dataset shape: (10178, 12)\n",
      "                         names       date_x  score  \\\n",
      "0                    Creed III  03/02/2023    73.0   \n",
      "1     Avatar: The Way of Water  12/15/2022    78.0   \n",
      "2  The Super Mario Bros. Movie  04/05/2023    76.0   \n",
      "3                      Mummies  01/05/2023    70.0   \n",
      "4                    Supercell  03/17/2023    61.0   \n",
      "\n",
      "                                           genre  \\\n",
      "0                                  Drama, Action   \n",
      "1             Science Fiction, Adventure, Action   \n",
      "2  Animation, Adventure, Family, Fantasy, Comedy   \n",
      "3  Animation, Comedy, Family, Adventure, Fantasy   \n",
      "4                                         Action   \n",
      "\n",
      "                                            overview  \\\n",
      "0  After dominating the boxing world, Adonis Cree...   \n",
      "1  Set more than a decade after the events of the...   \n",
      "2  While working underground to fix a water main,...   \n",
      "3  Through a series of unfortunate events, three ...   \n",
      "4  Good-hearted teenager William always lived in ...   \n",
      "\n",
      "                                                crew  \\\n",
      "0  Michael B. Jordan, Adonis Creed, Tessa Thompso...   \n",
      "1  Sam Worthington, Jake Sully, Zoe Saldaña, Neyt...   \n",
      "2  Chris Pratt, Mario (voice), Anya Taylor-Joy, P...   \n",
      "3  Óscar Barberán, Thut (voice), Ana Esther Albor...   \n",
      "4  Skeet Ulrich, Roy Cameron, Anne Heche, Dr Quin...   \n",
      "\n",
      "                    orig_title     status            orig_lang     budget_x  \\\n",
      "0                    Creed III   Released              English   75000000.0   \n",
      "1     Avatar: The Way of Water   Released              English  460000000.0   \n",
      "2  The Super Mario Bros. Movie   Released              English  100000000.0   \n",
      "3                       Momias   Released   Spanish, Castilian   12300000.0   \n",
      "4                    Supercell   Released              English   77000000.0   \n",
      "\n",
      "        revenue country  \n",
      "0  2.716167e+08      AU  \n",
      "1  2.316795e+09      AU  \n",
      "2  7.244590e+08      AU  \n",
      "3  3.420000e+07      AU  \n",
      "4  3.409420e+08      US  \n"
     ]
    }
   ],
   "source": [
    "movies = pd.read_csv(\"imdb_movies.csv\")   # replace with your file\n",
    "movies = movies.dropna(subset=[\"names\", \"overview\"])  # ensure text available\n",
    "\n",
    "print(\"Dataset shape:\", movies.shape)\n",
    "print(movies.head())"
   ]
  },
  {
   "cell_type": "markdown",
   "id": "a0ac62dd",
   "metadata": {},
   "source": [
    "# Step 3: Load Pretrained Sentence Transformer Model"
   ]
  },
  {
   "cell_type": "code",
   "execution_count": 5,
   "id": "d42e8394",
   "metadata": {},
   "outputs": [
    {
     "data": {
      "application/vnd.jupyter.widget-view+json": {
       "model_id": "c4d0d4120ce04edb8fe4f7bb3cdcd7c3",
       "version_major": 2,
       "version_minor": 0
      },
      "text/plain": [
       "modules.json:   0%|          | 0.00/349 [00:00<?, ?B/s]"
      ]
     },
     "metadata": {},
     "output_type": "display_data"
    },
    {
     "data": {
      "application/vnd.jupyter.widget-view+json": {
       "model_id": "c530ebb843844d008b4e754079fe012c",
       "version_major": 2,
       "version_minor": 0
      },
      "text/plain": [
       "config_sentence_transformers.json:   0%|          | 0.00/116 [00:00<?, ?B/s]"
      ]
     },
     "metadata": {},
     "output_type": "display_data"
    },
    {
     "data": {
      "application/vnd.jupyter.widget-view+json": {
       "model_id": "9908c414e4424a9193d1d446ee65918e",
       "version_major": 2,
       "version_minor": 0
      },
      "text/plain": [
       "README.md: 0.00B [00:00, ?B/s]"
      ]
     },
     "metadata": {},
     "output_type": "display_data"
    },
    {
     "data": {
      "application/vnd.jupyter.widget-view+json": {
       "model_id": "35b0ca2d42ca43a8b461415fc32e6fac",
       "version_major": 2,
       "version_minor": 0
      },
      "text/plain": [
       "sentence_bert_config.json:   0%|          | 0.00/53.0 [00:00<?, ?B/s]"
      ]
     },
     "metadata": {},
     "output_type": "display_data"
    },
    {
     "name": "stderr",
     "output_type": "stream",
     "text": [
      "Xet Storage is enabled for this repo, but the 'hf_xet' package is not installed. Falling back to regular HTTP download. For better performance, install the package with: `pip install huggingface_hub[hf_xet]` or `pip install hf_xet`\n"
     ]
    },
    {
     "data": {
      "application/vnd.jupyter.widget-view+json": {
       "model_id": "7c5c31eac71a44b8ad5f2feed8d67315",
       "version_major": 2,
       "version_minor": 0
      },
      "text/plain": [
       "model.safetensors:   0%|          | 0.00/90.9M [00:00<?, ?B/s]"
      ]
     },
     "metadata": {},
     "output_type": "display_data"
    },
    {
     "data": {
      "application/vnd.jupyter.widget-view+json": {
       "model_id": "aad0d5bb6e3a406eb188e97955662455",
       "version_major": 2,
       "version_minor": 0
      },
      "text/plain": [
       "tokenizer_config.json:   0%|          | 0.00/350 [00:00<?, ?B/s]"
      ]
     },
     "metadata": {},
     "output_type": "display_data"
    },
    {
     "data": {
      "application/vnd.jupyter.widget-view+json": {
       "model_id": "0d2bdae087f743efa6f15ccc9adc8f58",
       "version_major": 2,
       "version_minor": 0
      },
      "text/plain": [
       "vocab.txt: 0.00B [00:00, ?B/s]"
      ]
     },
     "metadata": {},
     "output_type": "display_data"
    },
    {
     "data": {
      "application/vnd.jupyter.widget-view+json": {
       "model_id": "698c09a4154045cca8b7f025c1f06112",
       "version_major": 2,
       "version_minor": 0
      },
      "text/plain": [
       "tokenizer.json: 0.00B [00:00, ?B/s]"
      ]
     },
     "metadata": {},
     "output_type": "display_data"
    },
    {
     "data": {
      "application/vnd.jupyter.widget-view+json": {
       "model_id": "53bce023ede340fe882658aebad8729a",
       "version_major": 2,
       "version_minor": 0
      },
      "text/plain": [
       "special_tokens_map.json:   0%|          | 0.00/112 [00:00<?, ?B/s]"
      ]
     },
     "metadata": {},
     "output_type": "display_data"
    },
    {
     "data": {
      "application/vnd.jupyter.widget-view+json": {
       "model_id": "a0a0667ce73642d6af981428c23b8fd0",
       "version_major": 2,
       "version_minor": 0
      },
      "text/plain": [
       "config.json:   0%|          | 0.00/190 [00:00<?, ?B/s]"
      ]
     },
     "metadata": {},
     "output_type": "display_data"
    }
   ],
   "source": [
    "model = SentenceTransformer(\"all-MiniLM-L6-v2\")"
   ]
  },
  {
   "cell_type": "markdown",
   "id": "f99b02d1",
   "metadata": {},
   "source": [
    "# Step 4: Encode Movie Overviews\n"
   ]
  },
  {
   "cell_type": "code",
   "execution_count": 6,
   "id": "c57524e3",
   "metadata": {},
   "outputs": [
    {
     "data": {
      "application/vnd.jupyter.widget-view+json": {
       "model_id": "1cb74ed0bf4740189f4825e5aca5c023",
       "version_major": 2,
       "version_minor": 0
      },
      "text/plain": [
       "Batches:   0%|          | 0/319 [00:00<?, ?it/s]"
      ]
     },
     "metadata": {},
     "output_type": "display_data"
    },
    {
     "name": "stdout",
     "output_type": "stream",
     "text": [
      "Embeddings shape: torch.Size([10178, 384])\n"
     ]
    }
   ],
   "source": [
    "movie_embeddings = model.encode(\n",
    "    movies[\"overview\"].tolist(),\n",
    "    convert_to_tensor=True,\n",
    "    show_progress_bar=True\n",
    ")\n",
    "\n",
    "print(\"Embeddings shape:\", movie_embeddings.shape)"
   ]
  },
  {
   "cell_type": "markdown",
   "id": "576085e5",
   "metadata": {},
   "source": [
    "# Step 5: Build Recommendation Function"
   ]
  },
  {
   "cell_type": "code",
   "execution_count": 9,
   "id": "f34188dc",
   "metadata": {},
   "outputs": [],
   "source": [
    "def recommend(movie_title, top_k=5):\n",
    "    # find index\n",
    "    idx = movies[movies[\"names\"].str.lower() == movie_title.lower()].index\n",
    "    if len(idx) == 0:\n",
    "        return f\"Movie '{movie_title}' not found.\"\n",
    "    idx = idx[0]\n",
    "\n",
    "    query_embedding = movie_embeddings[idx]\n",
    "\n",
    "    # cosine similarity\n",
    "    scores = util.cos_sim(query_embedding, movie_embeddings)[0].cpu().numpy()\n",
    "\n",
    "    # top results\n",
    "    top_indices = np.argsort(scores)[::-1][1:top_k+1]  # skip the movie itself\n",
    "\n",
    "    recommendations = movies.iloc[top_indices][[\"title\", \"overview\"]]\n",
    "    return recommendations"
   ]
  },
  {
   "cell_type": "code",
   "execution_count": 10,
   "id": "e93fd9bf",
   "metadata": {},
   "outputs": [
    {
     "ename": "KeyError",
     "evalue": "\"['title'] not in index\"",
     "output_type": "error",
     "traceback": [
      "\u001b[1;31m---------------------------------------------------------------------------\u001b[0m",
      "\u001b[1;31mKeyError\u001b[0m                                  Traceback (most recent call last)",
      "Cell \u001b[1;32mIn[10], line 2\u001b[0m\n\u001b[0;32m      1\u001b[0m \u001b[38;5;66;03m# Example\u001b[39;00m\n\u001b[1;32m----> 2\u001b[0m \u001b[38;5;28mprint\u001b[39m(\u001b[43mrecommend\u001b[49m\u001b[43m(\u001b[49m\u001b[38;5;124;43m\"\u001b[39;49m\u001b[38;5;124;43mThe Matrix\u001b[39;49m\u001b[38;5;124;43m\"\u001b[39;49m\u001b[43m)\u001b[49m)\n",
      "Cell \u001b[1;32mIn[9], line 16\u001b[0m, in \u001b[0;36mrecommend\u001b[1;34m(movie_title, top_k)\u001b[0m\n\u001b[0;32m     13\u001b[0m \u001b[38;5;66;03m# top results\u001b[39;00m\n\u001b[0;32m     14\u001b[0m top_indices \u001b[38;5;241m=\u001b[39m np\u001b[38;5;241m.\u001b[39margsort(scores)[::\u001b[38;5;241m-\u001b[39m\u001b[38;5;241m1\u001b[39m][\u001b[38;5;241m1\u001b[39m:top_k\u001b[38;5;241m+\u001b[39m\u001b[38;5;241m1\u001b[39m]  \u001b[38;5;66;03m# skip the movie itself\u001b[39;00m\n\u001b[1;32m---> 16\u001b[0m recommendations \u001b[38;5;241m=\u001b[39m \u001b[43mmovies\u001b[49m\u001b[38;5;241;43m.\u001b[39;49m\u001b[43miloc\u001b[49m\u001b[43m[\u001b[49m\u001b[43mtop_indices\u001b[49m\u001b[43m]\u001b[49m\u001b[43m[\u001b[49m\u001b[43m[\u001b[49m\u001b[38;5;124;43m\"\u001b[39;49m\u001b[38;5;124;43mtitle\u001b[39;49m\u001b[38;5;124;43m\"\u001b[39;49m\u001b[43m,\u001b[49m\u001b[43m \u001b[49m\u001b[38;5;124;43m\"\u001b[39;49m\u001b[38;5;124;43moverview\u001b[39;49m\u001b[38;5;124;43m\"\u001b[39;49m\u001b[43m]\u001b[49m\u001b[43m]\u001b[49m\n\u001b[0;32m     17\u001b[0m \u001b[38;5;28;01mreturn\u001b[39;00m recommendations\n",
      "File \u001b[1;32mc:\\Users\\PMYLS\\Desktop\\Projects\\Movies Recommendation\\Sentence-Transformer\\.venv\\lib\\site-packages\\pandas\\core\\frame.py:4113\u001b[0m, in \u001b[0;36mDataFrame.__getitem__\u001b[1;34m(self, key)\u001b[0m\n\u001b[0;32m   4111\u001b[0m     \u001b[38;5;28;01mif\u001b[39;00m is_iterator(key):\n\u001b[0;32m   4112\u001b[0m         key \u001b[38;5;241m=\u001b[39m \u001b[38;5;28mlist\u001b[39m(key)\n\u001b[1;32m-> 4113\u001b[0m     indexer \u001b[38;5;241m=\u001b[39m \u001b[38;5;28;43mself\u001b[39;49m\u001b[38;5;241;43m.\u001b[39;49m\u001b[43mcolumns\u001b[49m\u001b[38;5;241;43m.\u001b[39;49m\u001b[43m_get_indexer_strict\u001b[49m\u001b[43m(\u001b[49m\u001b[43mkey\u001b[49m\u001b[43m,\u001b[49m\u001b[43m \u001b[49m\u001b[38;5;124;43m\"\u001b[39;49m\u001b[38;5;124;43mcolumns\u001b[39;49m\u001b[38;5;124;43m\"\u001b[39;49m\u001b[43m)\u001b[49m[\u001b[38;5;241m1\u001b[39m]\n\u001b[0;32m   4115\u001b[0m \u001b[38;5;66;03m# take() does not accept boolean indexers\u001b[39;00m\n\u001b[0;32m   4116\u001b[0m \u001b[38;5;28;01mif\u001b[39;00m \u001b[38;5;28mgetattr\u001b[39m(indexer, \u001b[38;5;124m\"\u001b[39m\u001b[38;5;124mdtype\u001b[39m\u001b[38;5;124m\"\u001b[39m, \u001b[38;5;28;01mNone\u001b[39;00m) \u001b[38;5;241m==\u001b[39m \u001b[38;5;28mbool\u001b[39m:\n",
      "File \u001b[1;32mc:\\Users\\PMYLS\\Desktop\\Projects\\Movies Recommendation\\Sentence-Transformer\\.venv\\lib\\site-packages\\pandas\\core\\indexes\\base.py:6212\u001b[0m, in \u001b[0;36mIndex._get_indexer_strict\u001b[1;34m(self, key, axis_name)\u001b[0m\n\u001b[0;32m   6209\u001b[0m \u001b[38;5;28;01melse\u001b[39;00m:\n\u001b[0;32m   6210\u001b[0m     keyarr, indexer, new_indexer \u001b[38;5;241m=\u001b[39m \u001b[38;5;28mself\u001b[39m\u001b[38;5;241m.\u001b[39m_reindex_non_unique(keyarr)\n\u001b[1;32m-> 6212\u001b[0m \u001b[38;5;28;43mself\u001b[39;49m\u001b[38;5;241;43m.\u001b[39;49m\u001b[43m_raise_if_missing\u001b[49m\u001b[43m(\u001b[49m\u001b[43mkeyarr\u001b[49m\u001b[43m,\u001b[49m\u001b[43m \u001b[49m\u001b[43mindexer\u001b[49m\u001b[43m,\u001b[49m\u001b[43m \u001b[49m\u001b[43maxis_name\u001b[49m\u001b[43m)\u001b[49m\n\u001b[0;32m   6214\u001b[0m keyarr \u001b[38;5;241m=\u001b[39m \u001b[38;5;28mself\u001b[39m\u001b[38;5;241m.\u001b[39mtake(indexer)\n\u001b[0;32m   6215\u001b[0m \u001b[38;5;28;01mif\u001b[39;00m \u001b[38;5;28misinstance\u001b[39m(key, Index):\n\u001b[0;32m   6216\u001b[0m     \u001b[38;5;66;03m# GH 42790 - Preserve name from an Index\u001b[39;00m\n",
      "File \u001b[1;32mc:\\Users\\PMYLS\\Desktop\\Projects\\Movies Recommendation\\Sentence-Transformer\\.venv\\lib\\site-packages\\pandas\\core\\indexes\\base.py:6264\u001b[0m, in \u001b[0;36mIndex._raise_if_missing\u001b[1;34m(self, key, indexer, axis_name)\u001b[0m\n\u001b[0;32m   6261\u001b[0m     \u001b[38;5;28;01mraise\u001b[39;00m \u001b[38;5;167;01mKeyError\u001b[39;00m(\u001b[38;5;124mf\u001b[39m\u001b[38;5;124m\"\u001b[39m\u001b[38;5;124mNone of [\u001b[39m\u001b[38;5;132;01m{\u001b[39;00mkey\u001b[38;5;132;01m}\u001b[39;00m\u001b[38;5;124m] are in the [\u001b[39m\u001b[38;5;132;01m{\u001b[39;00maxis_name\u001b[38;5;132;01m}\u001b[39;00m\u001b[38;5;124m]\u001b[39m\u001b[38;5;124m\"\u001b[39m)\n\u001b[0;32m   6263\u001b[0m not_found \u001b[38;5;241m=\u001b[39m \u001b[38;5;28mlist\u001b[39m(ensure_index(key)[missing_mask\u001b[38;5;241m.\u001b[39mnonzero()[\u001b[38;5;241m0\u001b[39m]]\u001b[38;5;241m.\u001b[39munique())\n\u001b[1;32m-> 6264\u001b[0m \u001b[38;5;28;01mraise\u001b[39;00m \u001b[38;5;167;01mKeyError\u001b[39;00m(\u001b[38;5;124mf\u001b[39m\u001b[38;5;124m\"\u001b[39m\u001b[38;5;132;01m{\u001b[39;00mnot_found\u001b[38;5;132;01m}\u001b[39;00m\u001b[38;5;124m not in index\u001b[39m\u001b[38;5;124m\"\u001b[39m)\n",
      "\u001b[1;31mKeyError\u001b[0m: \"['title'] not in index\""
     ]
    }
   ],
   "source": [
    "# Example\n",
    "print(recommend(\"The Matrix\"))"
   ]
  }
 ],
 "metadata": {
  "kernelspec": {
   "display_name": "Sentence-Transformer",
   "language": "python",
   "name": "python3"
  },
  "language_info": {
   "codemirror_mode": {
    "name": "ipython",
    "version": 3
   },
   "file_extension": ".py",
   "mimetype": "text/x-python",
   "name": "python",
   "nbconvert_exporter": "python",
   "pygments_lexer": "ipython3",
   "version": "3.10.18"
  }
 },
 "nbformat": 4,
 "nbformat_minor": 5
}
